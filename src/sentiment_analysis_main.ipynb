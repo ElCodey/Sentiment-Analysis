{
 "cells": [
  {
   "cell_type": "code",
   "execution_count": 18,
   "id": "38b69af5",
   "metadata": {},
   "outputs": [],
   "source": [
    "import pandas as pd\n",
    "\n",
    "from cleaning import import_merge, preprocess, remove_stopwords\n",
    "from main import undersample_split_vectorise, oversample, split, log_model, forest_model, oversample_2, grad_model\n",
    "\n",
    "from sklearn.model_selection import GridSearchCV\n",
    "from sklearn.linear_model import LogisticRegression\n",
    "from sklearn.ensemble import RandomForestClassifier, GradientBoostingClassifier\n",
    "import warnings\n",
    "\n",
    "import matplotlib.pyplot as plt\n",
    "import seaborn as sns\n",
    "\n",
    "warnings.filterwarnings(\"ignore\")"
   ]
  },
  {
   "cell_type": "markdown",
   "id": "29c2e570",
   "metadata": {},
   "source": [
    "### Importing and Cleaning"
   ]
  },
  {
   "cell_type": "code",
   "execution_count": 2,
   "id": "c74da520",
   "metadata": {},
   "outputs": [],
   "source": [
    "df = import_merge()\n",
    "df = preprocess(df)\n",
    "df = remove_stopwords(df)"
   ]
  },
  {
   "cell_type": "code",
   "execution_count": 3,
   "id": "126030cf",
   "metadata": {},
   "outputs": [
    {
     "data": {
      "text/html": [
       "<div>\n",
       "<style scoped>\n",
       "    .dataframe tbody tr th:only-of-type {\n",
       "        vertical-align: middle;\n",
       "    }\n",
       "\n",
       "    .dataframe tbody tr th {\n",
       "        vertical-align: top;\n",
       "    }\n",
       "\n",
       "    .dataframe thead th {\n",
       "        text-align: right;\n",
       "    }\n",
       "</style>\n",
       "<table border=\"1\" class=\"dataframe\">\n",
       "  <thead>\n",
       "    <tr style=\"text-align: right;\">\n",
       "      <th></th>\n",
       "      <th>review_score</th>\n",
       "      <th>no_stop_words</th>\n",
       "    </tr>\n",
       "  </thead>\n",
       "  <tbody>\n",
       "    <tr>\n",
       "      <th>0</th>\n",
       "      <td>4</td>\n",
       "      <td>testei produto ainda veio correto boas condiçõ...</td>\n",
       "    </tr>\n",
       "    <tr>\n",
       "      <th>1</th>\n",
       "      <td>4</td>\n",
       "      <td>bom produto</td>\n",
       "    </tr>\n",
       "    <tr>\n",
       "      <th>3</th>\n",
       "      <td>5</td>\n",
       "      <td>produto exatamente esperava descrito site cheg...</td>\n",
       "    </tr>\n",
       "    <tr>\n",
       "      <th>9</th>\n",
       "      <td>1</td>\n",
       "      <td>aguardando retorno loja</td>\n",
       "    </tr>\n",
       "    <tr>\n",
       "      <th>13</th>\n",
       "      <td>4</td>\n",
       "      <td>gostei produto</td>\n",
       "    </tr>\n",
       "  </tbody>\n",
       "</table>\n",
       "</div>"
      ],
      "text/plain": [
       "    review_score                                      no_stop_words\n",
       "0              4  testei produto ainda veio correto boas condiçõ...\n",
       "1              4                                        bom produto\n",
       "3              5  produto exatamente esperava descrito site cheg...\n",
       "9              1                            aguardando retorno loja\n",
       "13             4                                     gostei produto"
      ]
     },
     "execution_count": 3,
     "metadata": {},
     "output_type": "execute_result"
    }
   ],
   "source": [
    "df.head(5)"
   ]
  },
  {
   "cell_type": "code",
   "execution_count": 4,
   "id": "5ebf09ff",
   "metadata": {},
   "outputs": [],
   "source": [
    "X_train_und, X_test_und, y_train_und, y_test_und = undersample_split_vectorise(df)\n",
    "X_train_over, X_test_over, y_train_over, y_test_over = oversample_2(df)\n",
    "X_train, X_test, y_train, y_test = split(df)"
   ]
  },
  {
   "cell_type": "markdown",
   "id": "764a2b39",
   "metadata": {},
   "source": [
    "### Modelling\n",
    "\n",
    "Logistic Regression, Random Forest and Gradient Boost will be used for the modelling. 3 models of each algorithm will be used: undersampling, oversampling and the dataset unchanged.\n",
    "\n",
    "\n",
    "\n",
    "### Logistic Regression"
   ]
  },
  {
   "cell_type": "code",
   "execution_count": 5,
   "id": "e73d7ebc",
   "metadata": {},
   "outputs": [],
   "source": [
    "acc_score_log_norm, report_log_norm, matrix_log_norm = log_model(X_train, X_test, y_train, y_test)\n",
    "acc_score_log_und, report_log_und, matrix_log_und = log_model(X_train_und, X_test_und, y_train_und, y_test_und)\n",
    "acc_score_log_over, report_log_over, matrix_log_over = log_model(X_train_over, X_test_over, y_train_over, y_test_over)"
   ]
  },
  {
   "cell_type": "code",
   "execution_count": 6,
   "id": "1053ef4b",
   "metadata": {},
   "outputs": [
    {
     "name": "stdout",
     "output_type": "stream",
     "text": [
      "0.3493900138347378 0.21097372488408037 0.2846182870079235\n"
     ]
    }
   ],
   "source": [
    "print(acc_score_log_norm, acc_score_log_und, acc_score_log_over)"
   ]
  },
  {
   "cell_type": "code",
   "execution_count": 21,
   "id": "129c7a1f",
   "metadata": {},
   "outputs": [
    {
     "name": "stdout",
     "output_type": "stream",
     "text": [
      "              precision    recall  f1-score   support\n",
      "\n",
      "           1       0.24      0.30      0.27      1510\n",
      "           2       0.06      0.15      0.08       406\n",
      "           3       0.11      0.11      0.11       711\n",
      "           4       0.14      0.20      0.17      1185\n",
      "           5       0.56      0.35      0.43      4139\n",
      "\n",
      "    accuracy                           0.28      7951\n",
      "   macro avg       0.22      0.22      0.21      7951\n",
      "weighted avg       0.37      0.28      0.31      7951\n",
      "\n"
     ]
    }
   ],
   "source": [
    "print(report_log_over)"
   ]
  },
  {
   "cell_type": "code",
   "execution_count": 23,
   "id": "423395c8",
   "metadata": {},
   "outputs": [
    {
     "data": {
      "image/png": "[encoded data removed]",
      "text/plain": [
       "<Figure size 432x288 with 1 Axes>"
      ]
     },
     "metadata": {
      "needs_background": "light"
     },
     "output_type": "display_data"
    }
   ],
   "source": [
    "sns.heatmap(matrix_log_over, annot=True, fmt='g', vmin=0, cbar=False)\n",
    "plt.xlabel(\"Predicted\")\n",
    "plt.ylabel(\"Actual\")\n",
    "plt.title(\"Confusion Matrix for Logistic Regression for Oversampling\")\n",
    "plt.show()"
   ]
  },
  {
   "cell_type": "code",
   "execution_count": 26,
   "id": "4a117860",
   "metadata": {},
   "outputs": [
    {
     "data": {
      "text/plain": [
       "5    0.516161\n",
       "1    0.191045\n",
       "4    0.149918\n",
       "3    0.089548\n",
       "2    0.053327\n",
       "Name: review_score, dtype: float64"
      ]
     },
     "execution_count": 26,
     "metadata": {},
     "output_type": "execute_result"
    }
   ],
   "source": [
    "y_test.value_counts(normalize=True)"
   ]
  },
  {
   "cell_type": "markdown",
   "id": "61d76651",
   "metadata": {},
   "source": [
    "The accuracy scores aren't a great indicator for the results here because the normal dataset is very imbalanced towards 5 stars reviews. As above exploring the y_test data, if the model predicted only 5 stars it would perform at around 51% accuracy. The undersampling and oversampling have balanced data and stratify was used when spliting the data. The accuracy was poor for both, around 21% for undersampling and 28% for oversampling."
   ]
  },
  {
   "cell_type": "markdown",
   "id": "a11b993a",
   "metadata": {},
   "source": [
    "### Random Forest"
   ]
  },
  {
   "cell_type": "code",
   "execution_count": 8,
   "id": "d7c9203b",
   "metadata": {},
   "outputs": [],
   "source": [
    "acc_score_forest_norm, report_forest_norm, matrix_forest_norm = forest_model(X_train, X_test, y_train, y_test)\n",
    "acc_score_forest_und, report_forest_und, matrix_forest_und = forest_model(X_train_und, X_test_und, y_train_und, y_test_und)\n",
    "acc_score_forest_over, report_forest_over, matrix_forest_over = forest_model(X_train_over, X_test_over, y_train_over, y_test_over)"
   ]
  },
  {
   "cell_type": "code",
   "execution_count": 9,
   "id": "ddebba7e",
   "metadata": {},
   "outputs": [
    {
     "name": "stdout",
     "output_type": "stream",
     "text": [
      "0.3755502452521695 0.241112828438949 0.27153817129920765\n"
     ]
    }
   ],
   "source": [
    "print(acc_score_forest_norm, acc_score_forest_und, acc_score_forest_over)"
   ]
  },
  {
   "cell_type": "markdown",
   "id": "353dd700",
   "metadata": {},
   "source": [
    "Random Forest didn't managed to improve on the logistic regression models. It performed slightly better in the undersampled data but around 1% worse in the oversampled."
   ]
  },
  {
   "cell_type": "markdown",
   "id": "242800ae",
   "metadata": {},
   "source": [
    "### Gradient Boost"
   ]
  },
  {
   "cell_type": "code",
   "execution_count": 10,
   "id": "e1444667",
   "metadata": {},
   "outputs": [],
   "source": [
    "acc_score_grad_norm, report_grad_norm, matrix_grad_norm = grad_model(X_train, X_test, y_train, y_test)\n",
    "acc_score_grad_und, report_grad_und, matrix_grad_und = grad_model(X_train_und, X_test_und, y_train_und, y_test_und)\n",
    "acc_score_grad_over, report_grad_over, matrix_grad_over = grad_model(X_train_over, X_test_over, y_train_over, y_test_over)"
   ]
  },
  {
   "cell_type": "code",
   "execution_count": 11,
   "id": "ef8ecf8d",
   "metadata": {},
   "outputs": [
    {
     "name": "stdout",
     "output_type": "stream",
     "text": [
      "0.5131430008803924 0.1982225656877898 0.10401207395296189\n"
     ]
    }
   ],
   "source": [
    "print(acc_score_grad_norm, acc_score_grad_und, acc_score_grad_over)"
   ]
  },
  {
   "cell_type": "markdown",
   "id": "1c9a00b1",
   "metadata": {},
   "source": [
    "Gradient Boost also failed to improve on the undersampled and oversampled data. The normal data appears to be the best with 51% but as explored earlier, we could get this results from only estimating 5 star review."
   ]
  },
  {
   "cell_type": "code",
   "execution_count": 20,
   "id": "ff0a6139",
   "metadata": {},
   "outputs": [
    {
     "data": {
      "image/png": "[encoded data removed]",
      "text/plain": [
       "<Figure size 432x288 with 1 Axes>"
      ]
     },
     "metadata": {
      "needs_background": "light"
     },
     "output_type": "display_data"
    }
   ],
   "source": [
    "sns.heatmap(matrix_grad_norm, annot=True, fmt='g', vmin=0, cbar=False)\n",
    "plt.xlabel(\"Predicted\")\n",
    "plt.ylabel(\"Actual\")\n",
    "plt.title(\"Confusion Matrix for Gradient Boost Review Scores\")\n",
    "plt.show()"
   ]
  },
  {
   "cell_type": "markdown",
   "id": "d5026cb0",
   "metadata": {},
   "source": [
    "### GridSearch for Normal Data using Gradient Boost"
   ]
  },
  {
   "cell_type": "code",
   "execution_count": 12,
   "id": "fef2f06a",
   "metadata": {},
   "outputs": [],
   "source": [
    "clf = GridSearchCV(GradientBoostingClassifier(), \n",
    "                          { \"max_features\":[1000,2000,2500,3000]},\n",
    "                  cv=5, return_train_score=False)"
   ]
  },
  {
   "cell_type": "code",
   "execution_count": 13,
   "id": "eff44ae4",
   "metadata": {},
   "outputs": [
    {
     "data": {
      "text/plain": [
       "GridSearchCV(cv=5, estimator=GradientBoostingClassifier(),\n",
       "             param_grid={'max_features': [1000, 2000, 2500, 3000]})"
      ]
     },
     "execution_count": 13,
     "metadata": {},
     "output_type": "execute_result"
    }
   ],
   "source": [
    "clf.fit(X_train, y_train)"
   ]
  },
  {
   "cell_type": "code",
   "execution_count": 14,
   "id": "a754cd82",
   "metadata": {},
   "outputs": [
    {
     "data": {
      "text/plain": [
       "0.6300232845790831"
      ]
     },
     "execution_count": 14,
     "metadata": {},
     "output_type": "execute_result"
    }
   ],
   "source": [
    "clf.best_score_"
   ]
  },
  {
   "cell_type": "code",
   "execution_count": 17,
   "id": "e41b699e",
   "metadata": {},
   "outputs": [
    {
     "data": {
      "text/html": [
       "<div>\n",
       "<style scoped>\n",
       "    .dataframe tbody tr th:only-of-type {\n",
       "        vertical-align: middle;\n",
       "    }\n",
       "\n",
       "    .dataframe tbody tr th {\n",
       "        vertical-align: top;\n",
       "    }\n",
       "\n",
       "    .dataframe thead th {\n",
       "        text-align: right;\n",
       "    }\n",
       "</style>\n",
       "<table border=\"1\" class=\"dataframe\">\n",
       "  <thead>\n",
       "    <tr style=\"text-align: right;\">\n",
       "      <th></th>\n",
       "      <th>mean_fit_time</th>\n",
       "      <th>std_fit_time</th>\n",
       "      <th>mean_score_time</th>\n",
       "      <th>std_score_time</th>\n",
       "      <th>param_max_features</th>\n",
       "      <th>params</th>\n",
       "      <th>split0_test_score</th>\n",
       "      <th>split1_test_score</th>\n",
       "      <th>split2_test_score</th>\n",
       "      <th>split3_test_score</th>\n",
       "      <th>split4_test_score</th>\n",
       "      <th>mean_test_score</th>\n",
       "      <th>std_test_score</th>\n",
       "      <th>rank_test_score</th>\n",
       "    </tr>\n",
       "  </thead>\n",
       "  <tbody>\n",
       "    <tr>\n",
       "      <th>0</th>\n",
       "      <td>7.158200</td>\n",
       "      <td>0.373426</td>\n",
       "      <td>0.061441</td>\n",
       "      <td>0.002924</td>\n",
       "      <td>1000</td>\n",
       "      <td>{'max_features': 1000}</td>\n",
       "      <td>0.629304</td>\n",
       "      <td>0.630090</td>\n",
       "      <td>0.627201</td>\n",
       "      <td>0.630975</td>\n",
       "      <td>0.630503</td>\n",
       "      <td>0.629614</td>\n",
       "      <td>0.001326</td>\n",
       "      <td>4</td>\n",
       "    </tr>\n",
       "    <tr>\n",
       "      <th>1</th>\n",
       "      <td>9.214725</td>\n",
       "      <td>0.516238</td>\n",
       "      <td>0.063786</td>\n",
       "      <td>0.004664</td>\n",
       "      <td>2000</td>\n",
       "      <td>{'max_features': 2000}</td>\n",
       "      <td>0.628518</td>\n",
       "      <td>0.631976</td>\n",
       "      <td>0.629560</td>\n",
       "      <td>0.631132</td>\n",
       "      <td>0.628931</td>\n",
       "      <td>0.630023</td>\n",
       "      <td>0.001320</td>\n",
       "      <td>2</td>\n",
       "    </tr>\n",
       "    <tr>\n",
       "      <th>2</th>\n",
       "      <td>9.896077</td>\n",
       "      <td>0.364320</td>\n",
       "      <td>0.059548</td>\n",
       "      <td>0.001230</td>\n",
       "      <td>2500</td>\n",
       "      <td>{'max_features': 2500}</td>\n",
       "      <td>0.629932</td>\n",
       "      <td>0.630876</td>\n",
       "      <td>0.627987</td>\n",
       "      <td>0.629403</td>\n",
       "      <td>0.631761</td>\n",
       "      <td>0.629992</td>\n",
       "      <td>0.001287</td>\n",
       "      <td>3</td>\n",
       "    </tr>\n",
       "    <tr>\n",
       "      <th>3</th>\n",
       "      <td>10.479407</td>\n",
       "      <td>0.090300</td>\n",
       "      <td>0.059336</td>\n",
       "      <td>0.001020</td>\n",
       "      <td>3000</td>\n",
       "      <td>{'max_features': 3000}</td>\n",
       "      <td>0.628518</td>\n",
       "      <td>0.631033</td>\n",
       "      <td>0.627987</td>\n",
       "      <td>0.631761</td>\n",
       "      <td>0.630818</td>\n",
       "      <td>0.630023</td>\n",
       "      <td>0.001489</td>\n",
       "      <td>1</td>\n",
       "    </tr>\n",
       "  </tbody>\n",
       "</table>\n",
       "</div>"
      ],
      "text/plain": [
       "   mean_fit_time  std_fit_time  mean_score_time  std_score_time  \\\n",
       "0       7.158200      0.373426         0.061441        0.002924   \n",
       "1       9.214725      0.516238         0.063786        0.004664   \n",
       "2       9.896077      0.364320         0.059548        0.001230   \n",
       "3      10.479407      0.090300         0.059336        0.001020   \n",
       "\n",
       "  param_max_features                  params  split0_test_score  \\\n",
       "0               1000  {'max_features': 1000}           0.629304   \n",
       "1               2000  {'max_features': 2000}           0.628518   \n",
       "2               2500  {'max_features': 2500}           0.629932   \n",
       "3               3000  {'max_features': 3000}           0.628518   \n",
       "\n",
       "   split1_test_score  split2_test_score  split3_test_score  split4_test_score  \\\n",
       "0           0.630090           0.627201           0.630975           0.630503   \n",
       "1           0.631976           0.629560           0.631132           0.628931   \n",
       "2           0.630876           0.627987           0.629403           0.631761   \n",
       "3           0.631033           0.627987           0.631761           0.630818   \n",
       "\n",
       "   mean_test_score  std_test_score  rank_test_score  \n",
       "0         0.629614        0.001326                4  \n",
       "1         0.630023        0.001320                2  \n",
       "2         0.629992        0.001287                3  \n",
       "3         0.630023        0.001489                1  "
      ]
     },
     "execution_count": 17,
     "metadata": {},
     "output_type": "execute_result"
    }
   ],
   "source": [
    "df_clf = pd.DataFrame(clf.cv_results_)\n",
    "df_clf"
   ]
  },
  {
   "cell_type": "code",
   "execution_count": 29,
   "id": "f03b2529",
   "metadata": {},
   "outputs": [],
   "source": [
    "clf_under = GridSearchCV(GradientBoostingClassifier(), \n",
    "                          { \"max_features\":[1000,2000,2500,3000]},\n",
    "                  cv=5, return_train_score=False)"
   ]
  },
  {
   "cell_type": "code",
   "execution_count": 32,
   "id": "dba69221",
   "metadata": {},
   "outputs": [
    {
     "data": {
      "text/plain": [
       "GridSearchCV(cv=5, estimator=GradientBoostingClassifier(),\n",
       "             param_grid={'max_features': [1000, 2000, 2500, 3000]})"
      ]
     },
     "execution_count": 32,
     "metadata": {},
     "output_type": "execute_result"
    }
   ],
   "source": [
    "clf_under.fit(X_train_und, y_train_und)"
   ]
  },
  {
   "cell_type": "code",
   "execution_count": 33,
   "id": "22c23194",
   "metadata": {},
   "outputs": [
    {
     "data": {
      "text/plain": [
       "0.4259767023206618"
      ]
     },
     "execution_count": 33,
     "metadata": {},
     "output_type": "execute_result"
    }
   ],
   "source": [
    "clf_under.best_score_"
   ]
  },
  {
   "cell_type": "code",
   "execution_count": null,
   "id": "dbf8e32a",
   "metadata": {},
   "outputs": [],
   "source": []
  }
 ],
 "metadata": {
  "kernelspec": {
   "display_name": "Python 3",
   "language": "python",
   "name": "python3"
  },
  "language_info": {
   "codemirror_mode": {
    "name": "ipython",
    "version": 3
   },
   "file_extension": ".py",
   "mimetype": "text/x-python",
   "name": "python",
   "nbconvert_exporter": "python",
   "pygments_lexer": "ipython3",
   "version": "3.8.8"
  }
 },
 "nbformat": 4,
 "nbformat_minor": 5
}
